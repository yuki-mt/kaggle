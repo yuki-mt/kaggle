{
 "cells": [
  {
   "cell_type": "code",
   "execution_count": 6,
   "metadata": {},
   "outputs": [
    {
     "name": "stdout",
     "output_type": "stream",
     "text": [
      "2020-07-17 14:56:42,354 - root - INFO - ** Kedro project kaggle\n",
      "2020-07-17 14:56:42,355 - root - INFO - Defined global variable `context` and `catalog`\n",
      "2020-07-17 14:56:42,361 - root - INFO - Registered line magic `run_viz`\n"
     ]
    }
   ],
   "source": [
    "%reload_kedro"
   ]
  },
  {
   "cell_type": "markdown",
   "metadata": {},
   "source": [
    "## Run pipeline\n",
    "parameters of `context.run`: https://kedro.readthedocs.io/en/stable/04_user_guide/11_ipython.html#additional-parameters-for-context-run"
   ]
  },
  {
   "cell_type": "code",
   "execution_count": 2,
   "metadata": {
    "pycharm": {
     "name": "#%%\n"
    }
   },
   "outputs": [
    {
     "name": "stdout",
     "output_type": "stream",
     "text": [
      "2020-07-17 14:53:15,683 - root - INFO - ** Kedro project kaggle\n",
      "2020-07-17 14:53:15,707 - kedro.versioning.journal - WARNING - Unable to git describe /home/matoba/workspace/kaggle\n",
      "2020-07-17 14:53:15,718 - kedro.io.data_catalog - INFO - Loading data from `x_train` (CSVDataSet)...\n",
      "2020-07-17 14:53:39,994 - kedro.io.data_catalog - INFO - Loading data from `y_train` (CSVDataSet)...\n",
      "2020-07-17 14:53:40,381 - kedro.io.data_catalog - INFO - Loading data from `params:model` (MemoryDataSet)...\n",
      "2020-07-17 14:53:40,382 - kedro.pipeline.node - INFO - Running node: train: train([params:model,x_train,y_train]) -> [model,train_score]\n",
      "2020-07-17 14:53:40,383 - kaggle.pipelines.model.nodes - INFO - model name is: lgb\n",
      "2020-07-17 14:54:36,021 - kedro.io.data_catalog - INFO - Saving data to `model` (PickleDataSet)...\n",
      "2020-07-17 14:54:36,030 - kedro.io.data_catalog - INFO - Saving data to `train_score` (PickleDataSet)...\n",
      "2020-07-17 14:54:36,037 - kedro.runner.sequential_runner - INFO - Completed 1 out of 4 tasks\n",
      "2020-07-17 14:54:36,038 - kedro.io.data_catalog - INFO - Loading data from `x_train` (CSVDataSet)...\n",
      "2020-07-17 14:54:53,969 - kedro.io.data_catalog - INFO - Loading data from `y_train` (CSVDataSet)...\n",
      "2020-07-17 14:54:54,285 - kedro.io.data_catalog - INFO - Loading data from `x_val` (CSVDataSet)...\n",
      "2020-07-17 14:54:55,139 - kedro.io.data_catalog - INFO - Loading data from `y_val` (CSVDataSet)...\n",
      "2020-07-17 14:54:55,157 - kedro.io.data_catalog - INFO - Loading data from `x_test` (CSVDataSet)...\n",
      "2020-07-17 14:54:55,943 - kedro.io.data_catalog - INFO - Loading data from `params:model` (MemoryDataSet)...\n",
      "2020-07-17 14:54:55,944 - kedro.pipeline.node - INFO - Running node: test: test([params:model,x_test,x_train,x_val,y_train,y_val]) -> [submission]\n",
      "2020-07-17 14:55:43,772 - kedro.io.data_catalog - INFO - Saving data to `submission` (CSVDataSet)...\n",
      "2020-07-17 14:55:44,295 - kedro.runner.sequential_runner - INFO - Completed 2 out of 4 tasks\n",
      "2020-07-17 14:55:44,296 - kedro.io.data_catalog - INFO - Loading data from `x_val` (CSVDataSet)...\n",
      "2020-07-17 14:55:44,952 - kedro.io.data_catalog - INFO - Loading data from `y_val` (CSVDataSet)...\n",
      "2020-07-17 14:55:44,969 - kedro.io.data_catalog - INFO - Loading data from `model` (PickleDataSet)...\n",
      "2020-07-17 14:55:44,974 - kedro.pipeline.node - INFO - Running node: validate: validate([model,x_val,y_val]) -> [val_score]\n",
      "2020-07-17 14:55:45,338 - kedro.io.data_catalog - INFO - Saving data to `val_score` (PickleDataSet)...\n",
      "2020-07-17 14:55:45,340 - kedro.runner.sequential_runner - INFO - Completed 3 out of 4 tasks\n",
      "2020-07-17 14:55:45,340 - kedro.io.data_catalog - INFO - Loading data from `submission` (CSVDataSet)...\n",
      "2020-07-17 14:55:45,376 - kedro.io.data_catalog - INFO - Loading data from `train_score` (PickleDataSet)...\n",
      "2020-07-17 14:55:45,377 - kedro.io.data_catalog - INFO - Loading data from `val_score` (PickleDataSet)...\n",
      "2020-07-17 14:55:45,378 - kedro.io.data_catalog - INFO - Loading data from `params:model` (MemoryDataSet)...\n",
      "2020-07-17 14:55:45,379 - kedro.pipeline.node - INFO - Running node: log: log([params:model,submission,train_score,val_score]) -> None\n",
      "INFO: 'coursera' does not exist. Creating a new experiment\n",
      "2020-07-17 14:55:45,980 - kedro.runner.sequential_runner - INFO - Completed 4 out of 4 tasks\n",
      "2020-07-17 14:55:45,981 - kedro.runner.sequential_runner - INFO - Pipeline execution completed successfully.\n"
     ]
    },
    {
     "data": {
      "text/plain": [
       "{}"
      ]
     },
     "execution_count": 2,
     "metadata": {},
     "output_type": "execute_result"
    }
   ],
   "source": [
    "context.run(from_nodes=['train', 'test'])"
   ]
  },
  {
   "cell_type": "markdown",
   "metadata": {},
   "source": [
    "## Load Data"
   ]
  },
  {
   "cell_type": "code",
   "execution_count": 4,
   "metadata": {},
   "outputs": [
    {
     "name": "stdout",
     "output_type": "stream",
     "text": [
      "2020-07-17 14:56:28,975 - kedro.io.data_catalog - INFO - Loading data from `x_test` (CSVDataSet)...\n"
     ]
    },
    {
     "data": {
      "text/html": [
       "<div>\n",
       "<style scoped>\n",
       "    .dataframe tbody tr th:only-of-type {\n",
       "        vertical-align: middle;\n",
       "    }\n",
       "\n",
       "    .dataframe tbody tr th {\n",
       "        vertical-align: top;\n",
       "    }\n",
       "\n",
       "    .dataframe thead th {\n",
       "        text-align: right;\n",
       "    }\n",
       "</style>\n",
       "<table border=\"1\" class=\"dataframe\">\n",
       "  <thead>\n",
       "    <tr style=\"text-align: right;\">\n",
       "      <th></th>\n",
       "      <th>ID</th>\n",
       "      <th>shop_id</th>\n",
       "      <th>item_id</th>\n",
       "      <th>item_category_id</th>\n",
       "      <th>both_price</th>\n",
       "      <th>item_price</th>\n",
       "      <th>shop_id_target_enc</th>\n",
       "      <th>item_id_target_enc</th>\n",
       "      <th>item_category_id_target_enc</th>\n",
       "      <th>both_sales_price_lag_3</th>\n",
       "      <th>...</th>\n",
       "      <th>item_sales_price_lag_2</th>\n",
       "      <th>item_sales_price_lag_3</th>\n",
       "      <th>item_sales_price_lag_4</th>\n",
       "      <th>item_sales_price_lag_5</th>\n",
       "      <th>target_item_lag_1</th>\n",
       "      <th>target_item_lag_12</th>\n",
       "      <th>target_item_lag_2</th>\n",
       "      <th>target_item_lag_3</th>\n",
       "      <th>target_item_lag_4</th>\n",
       "      <th>target_item_lag_5</th>\n",
       "    </tr>\n",
       "  </thead>\n",
       "  <tbody>\n",
       "    <tr>\n",
       "      <th>0</th>\n",
       "      <td>0</td>\n",
       "      <td>5</td>\n",
       "      <td>5037</td>\n",
       "      <td>19</td>\n",
       "      <td>1964.5647</td>\n",
       "      <td>1999.7637</td>\n",
       "      <td>0.180948</td>\n",
       "      <td>1.853738</td>\n",
       "      <td>0.686464</td>\n",
       "      <td>2997.5</td>\n",
       "      <td>...</td>\n",
       "      <td>77382.5</td>\n",
       "      <td>99949.65</td>\n",
       "      <td>80555.56</td>\n",
       "      <td>134112.0</td>\n",
       "      <td>25.0</td>\n",
       "      <td>65.0</td>\n",
       "      <td>84.0</td>\n",
       "      <td>114.0</td>\n",
       "      <td>54.0</td>\n",
       "      <td>100.0</td>\n",
       "    </tr>\n",
       "    <tr>\n",
       "      <th>1</th>\n",
       "      <td>5100</td>\n",
       "      <td>4</td>\n",
       "      <td>5037</td>\n",
       "      <td>19</td>\n",
       "      <td>1964.5647</td>\n",
       "      <td>1999.7637</td>\n",
       "      <td>0.175478</td>\n",
       "      <td>1.853738</td>\n",
       "      <td>0.686464</td>\n",
       "      <td>2248.0</td>\n",
       "      <td>...</td>\n",
       "      <td>77382.5</td>\n",
       "      <td>99949.65</td>\n",
       "      <td>80555.56</td>\n",
       "      <td>134112.0</td>\n",
       "      <td>25.0</td>\n",
       "      <td>65.0</td>\n",
       "      <td>84.0</td>\n",
       "      <td>114.0</td>\n",
       "      <td>54.0</td>\n",
       "      <td>100.0</td>\n",
       "    </tr>\n",
       "    <tr>\n",
       "      <th>2</th>\n",
       "      <td>10200</td>\n",
       "      <td>6</td>\n",
       "      <td>5037</td>\n",
       "      <td>19</td>\n",
       "      <td>1964.5647</td>\n",
       "      <td>1999.7637</td>\n",
       "      <td>0.385540</td>\n",
       "      <td>1.853738</td>\n",
       "      <td>0.686464</td>\n",
       "      <td>749.0</td>\n",
       "      <td>...</td>\n",
       "      <td>77382.5</td>\n",
       "      <td>99949.65</td>\n",
       "      <td>80555.56</td>\n",
       "      <td>134112.0</td>\n",
       "      <td>25.0</td>\n",
       "      <td>65.0</td>\n",
       "      <td>84.0</td>\n",
       "      <td>114.0</td>\n",
       "      <td>54.0</td>\n",
       "      <td>100.0</td>\n",
       "    </tr>\n",
       "    <tr>\n",
       "      <th>3</th>\n",
       "      <td>15300</td>\n",
       "      <td>3</td>\n",
       "      <td>5037</td>\n",
       "      <td>19</td>\n",
       "      <td>1964.5647</td>\n",
       "      <td>1999.7637</td>\n",
       "      <td>0.115727</td>\n",
       "      <td>1.853738</td>\n",
       "      <td>0.686464</td>\n",
       "      <td>0.0</td>\n",
       "      <td>...</td>\n",
       "      <td>77382.5</td>\n",
       "      <td>99949.65</td>\n",
       "      <td>80555.56</td>\n",
       "      <td>134112.0</td>\n",
       "      <td>25.0</td>\n",
       "      <td>65.0</td>\n",
       "      <td>84.0</td>\n",
       "      <td>114.0</td>\n",
       "      <td>54.0</td>\n",
       "      <td>100.0</td>\n",
       "    </tr>\n",
       "    <tr>\n",
       "      <th>4</th>\n",
       "      <td>20400</td>\n",
       "      <td>2</td>\n",
       "      <td>5037</td>\n",
       "      <td>19</td>\n",
       "      <td>1964.5647</td>\n",
       "      <td>1999.7637</td>\n",
       "      <td>0.120660</td>\n",
       "      <td>1.853738</td>\n",
       "      <td>0.686464</td>\n",
       "      <td>749.0</td>\n",
       "      <td>...</td>\n",
       "      <td>77382.5</td>\n",
       "      <td>99949.65</td>\n",
       "      <td>80555.56</td>\n",
       "      <td>134112.0</td>\n",
       "      <td>25.0</td>\n",
       "      <td>65.0</td>\n",
       "      <td>84.0</td>\n",
       "      <td>114.0</td>\n",
       "      <td>54.0</td>\n",
       "      <td>100.0</td>\n",
       "    </tr>\n",
       "  </tbody>\n",
       "</table>\n",
       "<p>5 rows × 45 columns</p>\n",
       "</div>"
      ],
      "text/plain": [
       "      ID  shop_id  item_id  item_category_id  both_price  item_price  \\\n",
       "0      0        5     5037                19   1964.5647   1999.7637   \n",
       "1   5100        4     5037                19   1964.5647   1999.7637   \n",
       "2  10200        6     5037                19   1964.5647   1999.7637   \n",
       "3  15300        3     5037                19   1964.5647   1999.7637   \n",
       "4  20400        2     5037                19   1964.5647   1999.7637   \n",
       "\n",
       "   shop_id_target_enc  item_id_target_enc  item_category_id_target_enc  \\\n",
       "0            0.180948            1.853738                     0.686464   \n",
       "1            0.175478            1.853738                     0.686464   \n",
       "2            0.385540            1.853738                     0.686464   \n",
       "3            0.115727            1.853738                     0.686464   \n",
       "4            0.120660            1.853738                     0.686464   \n",
       "\n",
       "   both_sales_price_lag_3  ...  item_sales_price_lag_2  \\\n",
       "0                  2997.5  ...                 77382.5   \n",
       "1                  2248.0  ...                 77382.5   \n",
       "2                   749.0  ...                 77382.5   \n",
       "3                     0.0  ...                 77382.5   \n",
       "4                   749.0  ...                 77382.5   \n",
       "\n",
       "   item_sales_price_lag_3  item_sales_price_lag_4  item_sales_price_lag_5  \\\n",
       "0                99949.65                80555.56                134112.0   \n",
       "1                99949.65                80555.56                134112.0   \n",
       "2                99949.65                80555.56                134112.0   \n",
       "3                99949.65                80555.56                134112.0   \n",
       "4                99949.65                80555.56                134112.0   \n",
       "\n",
       "   target_item_lag_1  target_item_lag_12  target_item_lag_2  \\\n",
       "0               25.0                65.0               84.0   \n",
       "1               25.0                65.0               84.0   \n",
       "2               25.0                65.0               84.0   \n",
       "3               25.0                65.0               84.0   \n",
       "4               25.0                65.0               84.0   \n",
       "\n",
       "   target_item_lag_3  target_item_lag_4  target_item_lag_5  \n",
       "0              114.0               54.0              100.0  \n",
       "1              114.0               54.0              100.0  \n",
       "2              114.0               54.0              100.0  \n",
       "3              114.0               54.0              100.0  \n",
       "4              114.0               54.0              100.0  \n",
       "\n",
       "[5 rows x 45 columns]"
      ]
     },
     "execution_count": 4,
     "metadata": {},
     "output_type": "execute_result"
    }
   ],
   "source": [
    "df = catalog.load(\"x_test\")\n",
    "df.head()"
   ]
  },
  {
   "cell_type": "markdown",
   "metadata": {},
   "source": [
    "# Get Parameter"
   ]
  },
  {
   "cell_type": "code",
   "execution_count": 5,
   "metadata": {},
   "outputs": [
    {
     "data": {
      "text/plain": [
       "{'name': 'lgb', 'lgb': {'random_state': 100}, 'rf': {'random_state': 100}}"
      ]
     },
     "execution_count": 5,
     "metadata": {},
     "output_type": "execute_result"
    }
   ],
   "source": [
    "parameters = context.params  # type: Dict\n",
    "parameters[\"model\"]"
   ]
  },
  {
   "cell_type": "markdown",
   "metadata": {},
   "source": [
    "## Multi-runs with different parameters"
   ]
  },
  {
   "cell_type": "code",
   "execution_count": null,
   "metadata": {},
   "outputs": [
    {
     "name": "stdout",
     "output_type": "stream",
     "text": [
      "2020-07-17 14:58:37,274 - root - INFO - ** Kedro project kaggle\n",
      "2020-07-17 14:58:37,325 - kedro.versioning.journal - WARNING - Unable to git describe /home/matoba/workspace/kaggle\n",
      "2020-07-17 14:58:37,336 - kedro.io.data_catalog - INFO - Loading data from `x_train` (CSVDataSet)...\n",
      "2020-07-17 14:58:55,692 - kedro.io.data_catalog - INFO - Loading data from `y_train` (CSVDataSet)...\n",
      "2020-07-17 14:58:56,010 - kedro.io.data_catalog - INFO - Loading data from `params:model` (MemoryDataSet)...\n",
      "2020-07-17 14:58:56,011 - kedro.pipeline.node - INFO - Running node: train: train([params:model,x_train,y_train]) -> [model,train_score]\n",
      "2020-07-17 14:58:56,012 - kaggle.pipelines.model.nodes - INFO - model name is: lgb\n",
      "2020-07-17 14:59:53,388 - kedro.io.data_catalog - INFO - Saving data to `model` (PickleDataSet)...\n",
      "2020-07-17 14:59:53,397 - kedro.io.data_catalog - INFO - Saving data to `train_score` (PickleDataSet)...\n",
      "2020-07-17 14:59:53,403 - kedro.runner.sequential_runner - INFO - Completed 1 out of 4 tasks\n",
      "2020-07-17 14:59:53,404 - kedro.io.data_catalog - INFO - Loading data from `x_train` (CSVDataSet)...\n",
      "2020-07-17 15:00:11,395 - kedro.io.data_catalog - INFO - Loading data from `y_train` (CSVDataSet)...\n",
      "2020-07-17 15:00:11,711 - kedro.io.data_catalog - INFO - Loading data from `x_val` (CSVDataSet)...\n",
      "2020-07-17 15:00:12,379 - kedro.io.data_catalog - INFO - Loading data from `y_val` (CSVDataSet)...\n",
      "2020-07-17 15:00:12,395 - kedro.io.data_catalog - INFO - Loading data from `x_test` (CSVDataSet)...\n",
      "2020-07-17 15:00:13,018 - kedro.io.data_catalog - INFO - Loading data from `params:model` (MemoryDataSet)...\n",
      "2020-07-17 15:00:13,019 - kedro.pipeline.node - INFO - Running node: test: test([params:model,x_test,x_train,x_val,y_train,y_val]) -> [submission]\n",
      "2020-07-17 15:01:00,850 - kedro.io.data_catalog - INFO - Saving data to `submission` (CSVDataSet)...\n",
      "2020-07-17 15:01:01,373 - kedro.runner.sequential_runner - INFO - Completed 2 out of 4 tasks\n",
      "2020-07-17 15:01:01,374 - kedro.io.data_catalog - INFO - Loading data from `x_val` (CSVDataSet)...\n",
      "2020-07-17 15:01:02,048 - kedro.io.data_catalog - INFO - Loading data from `y_val` (CSVDataSet)...\n",
      "2020-07-17 15:01:02,064 - kedro.io.data_catalog - INFO - Loading data from `model` (PickleDataSet)...\n",
      "2020-07-17 15:01:02,069 - kedro.pipeline.node - INFO - Running node: validate: validate([model,x_val,y_val]) -> [val_score]\n",
      "2020-07-17 15:01:02,437 - kedro.io.data_catalog - INFO - Saving data to `val_score` (PickleDataSet)...\n",
      "2020-07-17 15:01:02,439 - kedro.runner.sequential_runner - INFO - Completed 3 out of 4 tasks\n",
      "2020-07-17 15:01:02,440 - kedro.io.data_catalog - INFO - Loading data from `submission` (CSVDataSet)...\n",
      "2020-07-17 15:01:02,476 - kedro.io.data_catalog - INFO - Loading data from `train_score` (PickleDataSet)...\n",
      "2020-07-17 15:01:02,477 - kedro.io.data_catalog - INFO - Loading data from `val_score` (PickleDataSet)...\n",
      "2020-07-17 15:01:02,478 - kedro.io.data_catalog - INFO - Loading data from `params:model` (MemoryDataSet)...\n",
      "2020-07-17 15:01:02,479 - kedro.pipeline.node - INFO - Running node: log: log([params:model,submission,train_score,val_score]) -> None\n",
      "2020-07-17 15:01:02,942 - kedro.runner.sequential_runner - INFO - Completed 4 out of 4 tasks\n",
      "2020-07-17 15:01:02,942 - kedro.runner.sequential_runner - INFO - Pipeline execution completed successfully.\n",
      "2020-07-17 15:01:02,943 - root - INFO - ** Kedro project kaggle\n",
      "2020-07-17 15:01:02,997 - kedro.versioning.journal - WARNING - Unable to git describe /home/matoba/workspace/kaggle\n",
      "2020-07-17 15:01:03,008 - kedro.io.data_catalog - INFO - Loading data from `x_train` (CSVDataSet)...\n",
      "2020-07-17 15:01:21,387 - kedro.io.data_catalog - INFO - Loading data from `y_train` (CSVDataSet)...\n",
      "2020-07-17 15:01:21,706 - kedro.io.data_catalog - INFO - Loading data from `params:model` (MemoryDataSet)...\n",
      "2020-07-17 15:01:21,707 - kedro.pipeline.node - INFO - Running node: train: train([params:model,x_train,y_train]) -> [model,train_score]\n",
      "2020-07-17 15:01:21,708 - kaggle.pipelines.model.nodes - INFO - model name is: rf\n"
     ]
    },
    {
     "name": "stderr",
     "output_type": "stream",
     "text": [
      "/home/matoba/workspace/kaggle/src/kaggle/pipelines/model/nodes.py:18: DataConversionWarning: A column-vector y was passed when a 1d array was expected. Please change the shape of y to (n_samples,), for example using ravel().\n",
      "  model.fit(X, y)\n"
     ]
    }
   ],
   "source": [
    "params = context.params\n",
    "for m in ['lgb', 'rf']:\n",
    "    params['model']['name'] = m\n",
    "    context._extra_params = params\n",
    "    context.run(from_nodes=['train', 'test'])"
   ]
  },
  {
   "cell_type": "code",
   "execution_count": null,
   "metadata": {},
   "outputs": [],
   "source": []
  }
 ],
 "metadata": {
  "kernelspec": {
   "display_name": "kaggle",
   "language": "python",
   "name": "python3"
  },
  "language_info": {
   "codemirror_mode": {
    "name": "ipython",
    "version": 3
   },
   "file_extension": ".py",
   "mimetype": "text/x-python",
   "name": "python",
   "nbconvert_exporter": "python",
   "pygments_lexer": "ipython3",
   "version": "3.7.6"
  }
 },
 "nbformat": 4,
 "nbformat_minor": 1
}
